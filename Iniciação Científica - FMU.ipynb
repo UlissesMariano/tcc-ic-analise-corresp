{
 "cells": [
  {
   "cell_type": "markdown",
   "metadata": {},
   "source": [
    "# <font color=red text>Projeto de análise - Iniciação Científica:</font> \n",
    " ## O Impacto do Ensino de Biologia Molecular como Questão de Saúde Pública"
   ]
  },
  {
   "cell_type": "code",
   "execution_count": 1,
   "metadata": {},
   "outputs": [],
   "source": [
    "# Importando as libs necessárias:\n",
    "import pandas as pd \n",
    "import prince \n",
    "import seaborn as sns\n",
    "from scipy.stats import chi2_contingency\n",
    "import matplotlib.pyplot as plt "
   ]
  },
  {
   "cell_type": "markdown",
   "metadata": {},
   "source": [
    "### DICIONÁRIO: \n",
    "**CONCORDANCIA** - É o grau de concordância com as perguntas; \n",
    "**NOTA**     - Medida do conhecimento em biomol"
   ]
  },
  {
   "cell_type": "code",
   "execution_count": 3,
   "metadata": {},
   "outputs": [],
   "source": [
    "# Importando dados: \n",
    "dados = pd.read_excel('dados/Base_ICv2_AMOSTRA.xlsx', dtype=object) \n",
    "pd.set_option(\"display.max_columns\", 999)"
   ]
  },
  {
   "cell_type": "markdown",
   "metadata": {},
   "source": [
    "### Análise Descritiva: "
   ]
  },
  {
   "cell_type": "code",
   "execution_count": null,
   "metadata": {},
   "outputs": [],
   "source": [
    "dados.head()"
   ]
  },
  {
   "cell_type": "code",
   "execution_count": null,
   "metadata": {},
   "outputs": [],
   "source": [
    "# Contagem de valores NULOS: \n",
    "for i in dados.columns:\n",
    "    if dados[i].isnull().sum() != 0 :\n",
    "        print(i, dados[i].isnull().sum())"
   ]
  },
  {
   "cell_type": "code",
   "execution_count": null,
   "metadata": {},
   "outputs": [],
   "source": [
    "# Gerando tabela para contagem dos meios de conhecimento: \n",
    "meio_info_n = [\"PROGRAMAS_DE_TV_E_TELEJORNAIS\", \"REDES_SOCIAIS_E_APP\", \"JORNAIS_E_REVISTAS\", \"RADIO\"]\n",
    "meio_info =[]\n",
    "\n",
    "meio_info.append(dados.PROGRAMAS_DE_TV_E_TELEJORNAIS.sum())\n",
    "meio_info.append(dados['REDES_SOCIAIS_E_APP'].sum())\n",
    "meio_info.append(dados.JORNAIS_E_REVISTAS.sum())\n",
    "meio_info.append(dados.RADIO.sum())\n",
    "\n",
    "Meio_conhecimento = pd.DataFrame(meio_info, meio_info_n)\n",
    "Meio_conhecimento.reset_index(inplace=True)\n",
    "Meio_conhecimento.rename(columns={0 : \"Quantidade_pessoas\", \"index\":\"Meio_info_n\"}, inplace=True)\n",
    "# Meio_conhecimento.rename(columns={}, inplace=True)"
   ]
  },
  {
   "cell_type": "code",
   "execution_count": null,
   "metadata": {},
   "outputs": [],
   "source": [
    "Meio_conhecimento"
   ]
  },
  {
   "cell_type": "code",
   "execution_count": null,
   "metadata": {
    "scrolled": false
   },
   "outputs": [],
   "source": [
    "# Meio que rece informações: \n",
    "# PALETTES: deep, muted, pastel, bright, dark, and colorblind\n",
    "ax = sns.barplot(x= Meio_conhecimento.Meio_info_n, \n",
    "                 y= Meio_conhecimento['Quantidade_pessoas'], \n",
    "                 hue=Meio_conhecimento['Quantidade_pessoas'])\n",
    "ax.figure.set_size_inches(15,6)\n",
    "ax.set_title(\"MEIO DE COMUNICAÇÃO QUE RECEBE INFORMAÇÕES\", fontsize=18)\n",
    "ax.set_xlabel('Meio que recebe informação', fontsize=15)\n",
    "ax.set_ylabel('Contagem', fontsize=15)\n",
    "ax.grid()"
   ]
  },
  {
   "cell_type": "code",
   "execution_count": null,
   "metadata": {},
   "outputs": [],
   "source": [
    "a = pd.DataFrame(dados.Idade.value_counts())\n",
    "a.reset_index(inplace=True)\n",
    "a.rename(columns={\"index\": \"Idades\", \"Idade\": \"Contagem_idades\"}, inplace=True)"
   ]
  },
  {
   "cell_type": "code",
   "execution_count": null,
   "metadata": {},
   "outputs": [],
   "source": [
    "dd = dados.groupby('Idade').agg({\"NOTA\": [\"count\"]})\n",
    "dd.NOTA"
   ]
  },
  {
   "cell_type": "code",
   "execution_count": null,
   "metadata": {},
   "outputs": [],
   "source": [
    "# Acertos com Idade\n",
    "ax2 = sns.barplot(a.Idades, a.Contagem_idades, hue=a.Contagem_idades)\n",
    "ax2.figure.set_size_inches(12,8)\n",
    "ax2.set_xlabel('Idades', fontsize=15)\n",
    "ax2.set_ylabel('Contagem das Idades', fontsize=15)\n",
    "ax2.grid(axis='y')"
   ]
  },
  {
   "cell_type": "code",
   "execution_count": null,
   "metadata": {},
   "outputs": [],
   "source": [
    "dados.info()"
   ]
  },
  {
   "cell_type": "markdown",
   "metadata": {},
   "source": [
    "## Retirando amostras para análise: "
   ]
  },
  {
   "cell_type": "code",
   "execution_count": null,
   "metadata": {},
   "outputs": [],
   "source": [
    "# Devido não termos alguns valores nulos nas variáveis: \n",
    "'''\n",
    "Graduacao 101\n",
    "Area_de_Conhecimento 112\n",
    "'''\n",
    "# Fizemos sem essas variáveis a análise descritiva com a Anacor: "
   ]
  },
  {
   "cell_type": "code",
   "execution_count": 5,
   "metadata": {},
   "outputs": [],
   "source": [
    "# Amostra para ANACOR: \n",
    "a_anacor = dados[['Sexo','Idade', 'Ensino_Medio', 'NOTA' ]]\n"
   ]
  },
  {
   "cell_type": "code",
   "execution_count": 8,
   "metadata": {},
   "outputs": [
    {
     "data": {
      "text/html": [
       "<div>\n",
       "<style scoped>\n",
       "    .dataframe tbody tr th:only-of-type {\n",
       "        vertical-align: middle;\n",
       "    }\n",
       "\n",
       "    .dataframe tbody tr th {\n",
       "        vertical-align: top;\n",
       "    }\n",
       "\n",
       "    .dataframe thead th {\n",
       "        text-align: right;\n",
       "    }\n",
       "</style>\n",
       "<table border=\"1\" class=\"dataframe\">\n",
       "  <thead>\n",
       "    <tr style=\"text-align: right;\">\n",
       "      <th>CONCORDANCIA</th>\n",
       "      <th>0</th>\n",
       "      <th>2</th>\n",
       "      <th>3</th>\n",
       "      <th>4</th>\n",
       "      <th>5</th>\n",
       "      <th>6</th>\n",
       "    </tr>\n",
       "    <tr>\n",
       "      <th>NOTA</th>\n",
       "      <th></th>\n",
       "      <th></th>\n",
       "      <th></th>\n",
       "      <th></th>\n",
       "      <th></th>\n",
       "      <th></th>\n",
       "    </tr>\n",
       "  </thead>\n",
       "  <tbody>\n",
       "    <tr>\n",
       "      <th>0</th>\n",
       "      <td>0</td>\n",
       "      <td>0</td>\n",
       "      <td>2</td>\n",
       "      <td>0</td>\n",
       "      <td>0</td>\n",
       "      <td>7</td>\n",
       "    </tr>\n",
       "    <tr>\n",
       "      <th>1</th>\n",
       "      <td>0</td>\n",
       "      <td>1</td>\n",
       "      <td>0</td>\n",
       "      <td>4</td>\n",
       "      <td>3</td>\n",
       "      <td>5</td>\n",
       "    </tr>\n",
       "    <tr>\n",
       "      <th>2</th>\n",
       "      <td>2</td>\n",
       "      <td>3</td>\n",
       "      <td>0</td>\n",
       "      <td>3</td>\n",
       "      <td>4</td>\n",
       "      <td>39</td>\n",
       "    </tr>\n",
       "    <tr>\n",
       "      <th>3</th>\n",
       "      <td>3</td>\n",
       "      <td>4</td>\n",
       "      <td>0</td>\n",
       "      <td>13</td>\n",
       "      <td>8</td>\n",
       "      <td>81</td>\n",
       "    </tr>\n",
       "    <tr>\n",
       "      <th>4</th>\n",
       "      <td>0</td>\n",
       "      <td>3</td>\n",
       "      <td>1</td>\n",
       "      <td>8</td>\n",
       "      <td>7</td>\n",
       "      <td>104</td>\n",
       "    </tr>\n",
       "  </tbody>\n",
       "</table>\n",
       "</div>"
      ],
      "text/plain": [
       "CONCORDANCIA  0  2  3   4  5    6\n",
       "NOTA                             \n",
       "0             0  0  2   0  0    7\n",
       "1             0  1  0   4  3    5\n",
       "2             2  3  0   3  4   39\n",
       "3             3  4  0  13  8   81\n",
       "4             0  3  1   8  7  104"
      ]
     },
     "execution_count": 8,
     "metadata": {},
     "output_type": "execute_result"
    }
   ],
   "source": [
    "# Amostra para o QUI QUADRADO: \n",
    "a_qui = pd.crosstab(dados.NOTA, dados.CONCORDANCIA)\n",
    "a_qui # Valores observados"
   ]
  },
  {
   "cell_type": "code",
   "execution_count": 9,
   "metadata": {},
   "outputs": [
    {
     "data": {
      "text/html": [
       "<div>\n",
       "<style scoped>\n",
       "    .dataframe tbody tr th:only-of-type {\n",
       "        vertical-align: middle;\n",
       "    }\n",
       "\n",
       "    .dataframe tbody tr th {\n",
       "        vertical-align: top;\n",
       "    }\n",
       "\n",
       "    .dataframe thead th {\n",
       "        text-align: right;\n",
       "    }\n",
       "</style>\n",
       "<table border=\"1\" class=\"dataframe\">\n",
       "  <thead>\n",
       "    <tr style=\"text-align: right;\">\n",
       "      <th>CONCORDANCIA</th>\n",
       "      <th>0</th>\n",
       "      <th>2</th>\n",
       "      <th>3</th>\n",
       "      <th>4</th>\n",
       "      <th>5</th>\n",
       "      <th>6</th>\n",
       "    </tr>\n",
       "    <tr>\n",
       "      <th>NOTA</th>\n",
       "      <th></th>\n",
       "      <th></th>\n",
       "      <th></th>\n",
       "      <th></th>\n",
       "      <th></th>\n",
       "      <th></th>\n",
       "    </tr>\n",
       "  </thead>\n",
       "  <tbody>\n",
       "    <tr>\n",
       "      <th>0</th>\n",
       "      <td>0.000</td>\n",
       "      <td>0.000</td>\n",
       "      <td>0.656</td>\n",
       "      <td>0.000</td>\n",
       "      <td>0.000</td>\n",
       "      <td>2.295</td>\n",
       "    </tr>\n",
       "    <tr>\n",
       "      <th>1</th>\n",
       "      <td>0.000</td>\n",
       "      <td>0.328</td>\n",
       "      <td>0.000</td>\n",
       "      <td>1.311</td>\n",
       "      <td>0.984</td>\n",
       "      <td>1.639</td>\n",
       "    </tr>\n",
       "    <tr>\n",
       "      <th>2</th>\n",
       "      <td>0.656</td>\n",
       "      <td>0.984</td>\n",
       "      <td>0.000</td>\n",
       "      <td>0.984</td>\n",
       "      <td>1.311</td>\n",
       "      <td>12.787</td>\n",
       "    </tr>\n",
       "    <tr>\n",
       "      <th>3</th>\n",
       "      <td>0.984</td>\n",
       "      <td>1.311</td>\n",
       "      <td>0.000</td>\n",
       "      <td>4.262</td>\n",
       "      <td>2.623</td>\n",
       "      <td>26.557</td>\n",
       "    </tr>\n",
       "    <tr>\n",
       "      <th>4</th>\n",
       "      <td>0.000</td>\n",
       "      <td>0.984</td>\n",
       "      <td>0.328</td>\n",
       "      <td>2.623</td>\n",
       "      <td>2.295</td>\n",
       "      <td>34.098</td>\n",
       "    </tr>\n",
       "  </tbody>\n",
       "</table>\n",
       "</div>"
      ],
      "text/plain": [
       "CONCORDANCIA      0      2      3      4      5       6\n",
       "NOTA                                                   \n",
       "0             0.000  0.000  0.656  0.000  0.000   2.295\n",
       "1             0.000  0.328  0.000  1.311  0.984   1.639\n",
       "2             0.656  0.984  0.000  0.984  1.311  12.787\n",
       "3             0.984  1.311  0.000  4.262  2.623  26.557\n",
       "4             0.000  0.984  0.328  2.623  2.295  34.098"
      ]
     },
     "execution_count": 9,
     "metadata": {},
     "output_type": "execute_result"
    }
   ],
   "source": [
    "# COLOCAR EM PERCENTUAL : \n",
    "a_qui_p = pd.crosstab(dados.NOTA, dados.CONCORDANCIA, normalize=True) *100\n",
    "a_qui_p = a_qui_p.round(3) # Valores observados\n",
    "a_qui_p"
   ]
  },
  {
   "cell_type": "markdown",
   "metadata": {},
   "source": [
    "# Qui Quadrado "
   ]
  },
  {
   "cell_type": "code",
   "execution_count": null,
   "metadata": {},
   "outputs": [],
   "source": [
    "chi2, p, dof, ex = chi2_contingency(a_qui, correction=True)\n",
    "print('X-squared = {}'.format(chi2.round(4)))\n",
    "print('P_value = {:.10f}'.format(p))\n",
    "print('dof = {}'.format(dof))\n",
    "print('Expected Frequencies =\\n {}'.format(pd.DataFrame(ex)))"
   ]
  },
  {
   "cell_type": "code",
   "execution_count": null,
   "metadata": {},
   "outputs": [],
   "source": [
    "# Calculando os resíduos: \n",
    "res = (a_qui - ex)**2\n",
    "res = res / ex\n",
    "res"
   ]
  },
  {
   "cell_type": "code",
   "execution_count": null,
   "metadata": {},
   "outputs": [],
   "source": []
  },
  {
   "cell_type": "markdown",
   "metadata": {},
   "source": [
    "# Análise de Correspondência Multipla - HOMALS "
   ]
  },
  {
   "cell_type": "code",
   "execution_count": 10,
   "metadata": {},
   "outputs": [],
   "source": [
    "mca = prince.MCA(\n",
    "    n_components=2, \n",
    "    n_iter=3, \n",
    "    copy = True, \n",
    "    check_input=True, \n",
    "    engine='auto')\n",
    "mca = mca.fit(a_anacor)"
   ]
  },
  {
   "cell_type": "code",
   "execution_count": 11,
   "metadata": {
    "scrolled": false
   },
   "outputs": [
    {
     "data": {
      "text/plain": [
       "Text(0.5, 1.03, 'Análise de Correspondência Multivariada (Homals) \\n NOTAS POR CADA VARIÁVEL DESCRITIVA')"
      ]
     },
     "execution_count": 11,
     "metadata": {},
     "output_type": "execute_result"
    },
    {
     "data": {
      "image/png": "[encoded data removed]",
      "text/plain": [
       "<Figure size 1080x576 with 1 Axes>"
      ]
     },
     "metadata": {
      "needs_background": "light"
     },
     "output_type": "display_data"
    }
   ],
   "source": [
    "ax = mca.plot_coordinates(\n",
    "        figsize=(15, 8),\n",
    "        X=a_anacor,\n",
    "        ax=None,\n",
    "        show_row_points=False,\n",
    "        row_points_size=150,\n",
    "        row_points_alpha=0.6,\n",
    "        show_row_labels=False, # Numero de cada linha\n",
    "        show_column_points=True,\n",
    "        column_points_size=150,\n",
    "        show_column_labels=True # Rotulos \n",
    "        )\n",
    "ax.set_title('Análise de Correspondência Multivariada (Homals) \\n NOTAS POR CADA VARIÁVEL DESCRITIVA', fontsize=20, y=1.03)\n",
    "\n",
    "# ax.get_figure().savefig('images/mca_coordinates.svg')"
   ]
  },
  {
   "cell_type": "code",
   "execution_count": 12,
   "metadata": {},
   "outputs": [
    {
     "data": {
      "text/html": [
       "<div>\n",
       "<style scoped>\n",
       "    .dataframe tbody tr th:only-of-type {\n",
       "        vertical-align: middle;\n",
       "    }\n",
       "\n",
       "    .dataframe tbody tr th {\n",
       "        vertical-align: top;\n",
       "    }\n",
       "\n",
       "    .dataframe thead th {\n",
       "        text-align: right;\n",
       "    }\n",
       "</style>\n",
       "<table border=\"1\" class=\"dataframe\">\n",
       "  <thead>\n",
       "    <tr style=\"text-align: right;\">\n",
       "      <th></th>\n",
       "      <th>COMPONENTE 0</th>\n",
       "      <th>COMPONENTE 1</th>\n",
       "    </tr>\n",
       "  </thead>\n",
       "  <tbody>\n",
       "    <tr>\n",
       "      <th>Sexo_F</th>\n",
       "      <td>0.211190</td>\n",
       "      <td>-0.041871</td>\n",
       "    </tr>\n",
       "    <tr>\n",
       "      <th>Sexo_M</th>\n",
       "      <td>-0.569795</td>\n",
       "      <td>0.100637</td>\n",
       "    </tr>\n",
       "    <tr>\n",
       "      <th>Sexo_PREFIRO NÃO DIZER</th>\n",
       "      <td>4.710943</td>\n",
       "      <td>-0.354391</td>\n",
       "    </tr>\n",
       "    <tr>\n",
       "      <th>Idade_15-20</th>\n",
       "      <td>0.682535</td>\n",
       "      <td>-0.110082</td>\n",
       "    </tr>\n",
       "    <tr>\n",
       "      <th>Idade_21-30</th>\n",
       "      <td>-0.769061</td>\n",
       "      <td>-0.181448</td>\n",
       "    </tr>\n",
       "    <tr>\n",
       "      <th>Idade_31-40</th>\n",
       "      <td>0.055458</td>\n",
       "      <td>-0.460040</td>\n",
       "    </tr>\n",
       "    <tr>\n",
       "      <th>Idade_41-50</th>\n",
       "      <td>-0.178763</td>\n",
       "      <td>0.165167</td>\n",
       "    </tr>\n",
       "    <tr>\n",
       "      <th>Idade_51+</th>\n",
       "      <td>0.058812</td>\n",
       "      <td>3.626250</td>\n",
       "    </tr>\n",
       "    <tr>\n",
       "      <th>Ensino_Medio_PRIVADA</th>\n",
       "      <td>0.893895</td>\n",
       "      <td>0.018716</td>\n",
       "    </tr>\n",
       "    <tr>\n",
       "      <th>Ensino_Medio_PÚBLICA</th>\n",
       "      <td>-0.526095</td>\n",
       "      <td>-0.011015</td>\n",
       "    </tr>\n",
       "    <tr>\n",
       "      <th>NOTA_0</th>\n",
       "      <td>-1.846085</td>\n",
       "      <td>-0.316805</td>\n",
       "    </tr>\n",
       "    <tr>\n",
       "      <th>NOTA_1</th>\n",
       "      <td>-0.983163</td>\n",
       "      <td>3.241176</td>\n",
       "    </tr>\n",
       "    <tr>\n",
       "      <th>NOTA_2</th>\n",
       "      <td>0.323727</td>\n",
       "      <td>0.483504</td>\n",
       "    </tr>\n",
       "    <tr>\n",
       "      <th>NOTA_3</th>\n",
       "      <td>-0.462831</td>\n",
       "      <td>-0.595298</td>\n",
       "    </tr>\n",
       "    <tr>\n",
       "      <th>NOTA_4</th>\n",
       "      <td>0.514914</td>\n",
       "      <td>0.007681</td>\n",
       "    </tr>\n",
       "  </tbody>\n",
       "</table>\n",
       "</div>"
      ],
      "text/plain": [
       "                        COMPONENTE 0  COMPONENTE 1\n",
       "Sexo_F                      0.211190     -0.041871\n",
       "Sexo_M                     -0.569795      0.100637\n",
       "Sexo_PREFIRO NÃO DIZER      4.710943     -0.354391\n",
       "Idade_15-20                 0.682535     -0.110082\n",
       "Idade_21-30                -0.769061     -0.181448\n",
       "Idade_31-40                 0.055458     -0.460040\n",
       "Idade_41-50                -0.178763      0.165167\n",
       "Idade_51+                   0.058812      3.626250\n",
       "Ensino_Medio_PRIVADA        0.893895      0.018716\n",
       "Ensino_Medio_PÚBLICA       -0.526095     -0.011015\n",
       "NOTA_0                     -1.846085     -0.316805\n",
       "NOTA_1                     -0.983163      3.241176\n",
       "NOTA_2                      0.323727      0.483504\n",
       "NOTA_3                     -0.462831     -0.595298\n",
       "NOTA_4                      0.514914      0.007681"
      ]
     },
     "execution_count": 12,
     "metadata": {},
     "output_type": "execute_result"
    }
   ],
   "source": [
    "# Coordenadas das colunas: TABELA DE COMPONENTES\n",
    "tb_component = mca.column_coordinates ( a_anacor )\n",
    "tb_component = tb_component.rename(columns={0: 'COMPONENTE 0', 1: 'COMPONENTE 1'}, )\n",
    "tb_component"
   ]
  },
  {
   "cell_type": "code",
   "execution_count": null,
   "metadata": {},
   "outputs": [],
   "source": [
    "mca.explained_inertia_"
   ]
  },
  {
   "cell_type": "code",
   "execution_count": null,
   "metadata": {},
   "outputs": [],
   "source": [
    "# Medida de consistencia interna: \n"
   ]
  },
  {
   "cell_type": "code",
   "execution_count": 13,
   "metadata": {},
   "outputs": [],
   "source": [
    "tb_component.to_csv(\"TabelaComponentes.csv\")"
   ]
  },
  {
   "cell_type": "markdown",
   "metadata": {},
   "source": [
    "## Alguns Gráficos"
   ]
  },
  {
   "cell_type": "code",
   "execution_count": null,
   "metadata": {
    "scrolled": false
   },
   "outputs": [],
   "source": [
    "sns.boxplot(x=dados.NOTA)"
   ]
  },
  {
   "cell_type": "code",
   "execution_count": null,
   "metadata": {},
   "outputs": [],
   "source": [
    "dados.head()"
   ]
  },
  {
   "cell_type": "code",
   "execution_count": null,
   "metadata": {},
   "outputs": [],
   "source": [
    "# Teste de agrupamento: \n",
    "dados.groupby(\"Sexo\")[\"Idade\"].value_counts()"
   ]
  },
  {
   "cell_type": "code",
   "execution_count": null,
   "metadata": {},
   "outputs": [],
   "source": []
  }
 ],
 "metadata": {
  "kernelspec": {
   "display_name": "Python 3",
   "language": "python",
   "name": "python3"
  },
  "language_info": {
   "codemirror_mode": {
    "name": "ipython",
    "version": 3
   },
   "file_extension": ".py",
   "mimetype": "text/x-python",
   "name": "python",
   "nbconvert_exporter": "python",
   "pygments_lexer": "ipython3",
   "version": "3.8.5"
  }
 },
 "nbformat": 4,
 "nbformat_minor": 4
}
